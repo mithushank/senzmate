!pip install pytesseract
!sudo apt-get install tesseract-ocr
!pip install pdf2image
